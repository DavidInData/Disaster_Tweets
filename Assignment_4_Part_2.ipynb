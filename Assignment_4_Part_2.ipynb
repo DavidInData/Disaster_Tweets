{
 "cells": [
  {
   "cell_type": "code",
   "execution_count": 1,
   "id": "dc9e1fad",
   "metadata": {},
   "outputs": [],
   "source": [
    "from IPython.display import HTML\n",
    "from IPython.display import Image \n",
    "from IPython.core.interactiveshell import InteractiveShell\n",
    "InteractiveShell.ast_node_interactivity = \"all\""
   ]
  },
  {
   "cell_type": "markdown",
   "id": "259adc04",
   "metadata": {},
   "source": [
    "# Assignment 4 - Part 2 | Tweet Disaster\n",
    "David Thor MSDS 422 - Practical Machine Learning\n"
   ]
  },
  {
   "cell_type": "markdown",
   "id": "d7268351",
   "metadata": {},
   "source": [
    "# Libraries"
   ]
  },
  {
   "cell_type": "code",
   "execution_count": 2,
   "id": "5b0c3bfb",
   "metadata": {},
   "outputs": [
    {
     "name": "stderr",
     "output_type": "stream",
     "text": [
      "Using TensorFlow backend.\n"
     ]
    }
   ],
   "source": [
    "import os\n",
    "import numpy as np\n",
    "import pandas as pd\n",
    "import math\n",
    "import matplotlib.pyplot as plt\n",
    "import seaborn as sns\n",
    "from sklearn import preprocessing\n",
    "from sklearn.model_selection import train_test_split\n",
    "from sklearn import metrics\n",
    "from sklearn import linear_model\n",
    "from scipy import stats\n",
    "import matplotlib.gridspec as gridspec\n",
    "from sklearn.compose import ColumnTransformer\n",
    "from sklearn.linear_model import Ridge\n",
    "from sklearn.model_selection import KFold\n",
    "from sklearn.linear_model import Lasso\n",
    "from sklearn.model_selection import GridSearchCV\n",
    "from sklearn.model_selection import RepeatedKFold\n",
    "from sklearn.linear_model import ElasticNet\n",
    "from sklearn.metrics import mean_squared_error\n",
    "from sklearn.linear_model import LogisticRegression\n",
    "from sklearn.discriminant_analysis import LinearDiscriminantAnalysis\n",
    "from sklearn.neighbors import KNeighborsClassifier\n",
    "import glob\n",
    "from PIL import Image\n",
    "import PIL\n",
    "import matplotlib.pyplot as plt\n",
    "from sklearn.decomposition import PCA\n",
    "from sklearn.metrics import accuracy_score\n",
    "import warnings\n",
    "warnings.filterwarnings('ignore')\n",
    "import os\n",
    "import numpy as np\n",
    "import pandas as pd\n",
    "import tensorflow as tf\n",
    "from tensorflow.keras import layers\n",
    "from tensorflow.keras import models\n",
    "from tensorflow.keras import optimizers\n",
    "from keras.models import load_model, save_model\n",
    "from sklearn.model_selection import train_test_split\n",
    "import matplotlib.pyplot as plt\n",
    "import seaborn as sns\n",
    "#from plot_keras_history import show_history, plot_history\n",
    "#import scikitplot as skplt\n",
    "from IPython.utils import io\n",
    "from tensorflow.keras.preprocessing.text import Tokenizer\n",
    "from tensorflow.keras.preprocessing.sequence import pad_sequences\n",
    "from numpy import save, load\n",
    "from pickleshare import PickleShareDB\n",
    "from tensorflow import keras\n",
    "from tensorflow.keras.utils import plot_model\n",
    "from tensorflow.keras.models import Sequential\n",
    "from tensorflow.keras.layers import Embedding, Flatten, Dense, Bidirectional, LSTM\n",
    "%matplotlib inline"
   ]
  },
  {
   "cell_type": "code",
   "execution_count": 3,
   "id": "954a820c",
   "metadata": {},
   "outputs": [
    {
     "data": {
      "text/plain": [
       "'/Users/dthor/Desktop/Assignment 4/Disaster'"
      ]
     },
     "execution_count": 3,
     "metadata": {},
     "output_type": "execute_result"
    }
   ],
   "source": [
    "os.getcwd()"
   ]
  },
  {
   "cell_type": "markdown",
   "id": "422b78a2",
   "metadata": {},
   "source": [
    "# Part 0 - Importing Data\n",
    "\n"
   ]
  },
  {
   "cell_type": "code",
   "execution_count": 4,
   "id": "c3923fb3",
   "metadata": {},
   "outputs": [],
   "source": [
    "##Importing Data\n",
    "trainDat = pd.read_csv('train.csv')\n",
    "testDat =  pd.read_csv('test.csv')"
   ]
  },
  {
   "cell_type": "code",
   "execution_count": 5,
   "id": "b18df0de",
   "metadata": {},
   "outputs": [
    {
     "data": {
      "text/plain": [
       "(7613, 5)"
      ]
     },
     "execution_count": 5,
     "metadata": {},
     "output_type": "execute_result"
    },
    {
     "data": {
      "text/plain": [
       "(3263, 4)"
      ]
     },
     "execution_count": 5,
     "metadata": {},
     "output_type": "execute_result"
    },
    {
     "name": "stdout",
     "output_type": "stream",
     "text": [
      "<class 'pandas.core.frame.DataFrame'>\n",
      "RangeIndex: 7613 entries, 0 to 7612\n",
      "Data columns (total 5 columns):\n",
      " #   Column    Non-Null Count  Dtype \n",
      "---  ------    --------------  ----- \n",
      " 0   id        7613 non-null   int64 \n",
      " 1   keyword   7552 non-null   object\n",
      " 2   location  5080 non-null   object\n",
      " 3   text      7613 non-null   object\n",
      " 4   target    7613 non-null   int64 \n",
      "dtypes: int64(2), object(3)\n",
      "memory usage: 297.5+ KB\n"
     ]
    }
   ],
   "source": [
    "trainDat.shape\n",
    "testDat.shape\n",
    "trainDat.info()"
   ]
  },
  {
   "cell_type": "code",
   "execution_count": 6,
   "id": "dc9d40de",
   "metadata": {},
   "outputs": [
    {
     "data": {
      "text/plain": [
       "{'target'}"
      ]
     },
     "execution_count": 6,
     "metadata": {},
     "output_type": "execute_result"
    }
   ],
   "source": [
    "# checking variables to make sure label is the y variable\n",
    "set(trainDat.columns).difference(set(testDat.columns))"
   ]
  },
  {
   "cell_type": "markdown",
   "id": "87d520d3",
   "metadata": {},
   "source": [
    "# Feature Engineer\n",
    "- I decided to concatenate the location, keywords and text together because I felt the keywodr and location were also important features to include in the text.\n",
    "- The method below combines the 3 features/text into a new colum called 'combined'"
   ]
  },
  {
   "cell_type": "code",
   "execution_count": 7,
   "id": "20bdd09f",
   "metadata": {},
   "outputs": [],
   "source": [
    "# Method to feature engineer\n",
    "def combine_features(df):\n",
    "    df.fillna('', inplace=True)\n",
    "    cols = ['keyword', 'location', 'text']\n",
    "    df['combined'] = df[cols].apply(lambda row: ''.join(\\\n",
    "                                            row.values.astype(str)), axis=1)\n",
    "    #trainDat.drop('allText', axis=1, inplace=True)\n",
    "    #trainDat['combined'] = trainDat['combined'].map(lambda x: x.lstrip(''))\n",
    "    return df"
   ]
  },
  {
   "cell_type": "code",
   "execution_count": 8,
   "id": "76199e7e",
   "metadata": {
    "scrolled": true
   },
   "outputs": [
    {
     "data": {
      "text/html": [
       "<div>\n",
       "<style scoped>\n",
       "    .dataframe tbody tr th:only-of-type {\n",
       "        vertical-align: middle;\n",
       "    }\n",
       "\n",
       "    .dataframe tbody tr th {\n",
       "        vertical-align: top;\n",
       "    }\n",
       "\n",
       "    .dataframe thead th {\n",
       "        text-align: right;\n",
       "    }\n",
       "</style>\n",
       "<table border=\"1\" class=\"dataframe\">\n",
       "  <thead>\n",
       "    <tr style=\"text-align: right;\">\n",
       "      <th></th>\n",
       "      <th>id</th>\n",
       "      <th>keyword</th>\n",
       "      <th>location</th>\n",
       "      <th>text</th>\n",
       "      <th>target</th>\n",
       "      <th>combined</th>\n",
       "    </tr>\n",
       "  </thead>\n",
       "  <tbody>\n",
       "    <tr>\n",
       "      <th>0</th>\n",
       "      <td>1</td>\n",
       "      <td></td>\n",
       "      <td></td>\n",
       "      <td>Our Deeds are the Reason of this #earthquake M...</td>\n",
       "      <td>1</td>\n",
       "      <td>Our Deeds are the Reason of this #earthquake M...</td>\n",
       "    </tr>\n",
       "    <tr>\n",
       "      <th>1</th>\n",
       "      <td>4</td>\n",
       "      <td></td>\n",
       "      <td></td>\n",
       "      <td>Forest fire near La Ronge Sask. Canada</td>\n",
       "      <td>1</td>\n",
       "      <td>Forest fire near La Ronge Sask. Canada</td>\n",
       "    </tr>\n",
       "    <tr>\n",
       "      <th>2</th>\n",
       "      <td>5</td>\n",
       "      <td></td>\n",
       "      <td></td>\n",
       "      <td>All residents asked to 'shelter in place' are ...</td>\n",
       "      <td>1</td>\n",
       "      <td>All residents asked to 'shelter in place' are ...</td>\n",
       "    </tr>\n",
       "    <tr>\n",
       "      <th>3</th>\n",
       "      <td>6</td>\n",
       "      <td></td>\n",
       "      <td></td>\n",
       "      <td>13,000 people receive #wildfires evacuation or...</td>\n",
       "      <td>1</td>\n",
       "      <td>13,000 people receive #wildfires evacuation or...</td>\n",
       "    </tr>\n",
       "    <tr>\n",
       "      <th>4</th>\n",
       "      <td>7</td>\n",
       "      <td></td>\n",
       "      <td></td>\n",
       "      <td>Just got sent this photo from Ruby #Alaska as ...</td>\n",
       "      <td>1</td>\n",
       "      <td>Just got sent this photo from Ruby #Alaska as ...</td>\n",
       "    </tr>\n",
       "    <tr>\n",
       "      <th>...</th>\n",
       "      <td>...</td>\n",
       "      <td>...</td>\n",
       "      <td>...</td>\n",
       "      <td>...</td>\n",
       "      <td>...</td>\n",
       "      <td>...</td>\n",
       "    </tr>\n",
       "    <tr>\n",
       "      <th>7608</th>\n",
       "      <td>10869</td>\n",
       "      <td></td>\n",
       "      <td></td>\n",
       "      <td>Two giant cranes holding a bridge collapse int...</td>\n",
       "      <td>1</td>\n",
       "      <td>Two giant cranes holding a bridge collapse int...</td>\n",
       "    </tr>\n",
       "    <tr>\n",
       "      <th>7609</th>\n",
       "      <td>10870</td>\n",
       "      <td></td>\n",
       "      <td></td>\n",
       "      <td>@aria_ahrary @TheTawniest The out of control w...</td>\n",
       "      <td>1</td>\n",
       "      <td>@aria_ahrary @TheTawniest The out of control w...</td>\n",
       "    </tr>\n",
       "    <tr>\n",
       "      <th>7610</th>\n",
       "      <td>10871</td>\n",
       "      <td></td>\n",
       "      <td></td>\n",
       "      <td>M1.94 [01:04 UTC]?5km S of Volcano Hawaii. htt...</td>\n",
       "      <td>1</td>\n",
       "      <td>M1.94 [01:04 UTC]?5km S of Volcano Hawaii. htt...</td>\n",
       "    </tr>\n",
       "    <tr>\n",
       "      <th>7611</th>\n",
       "      <td>10872</td>\n",
       "      <td></td>\n",
       "      <td></td>\n",
       "      <td>Police investigating after an e-bike collided ...</td>\n",
       "      <td>1</td>\n",
       "      <td>Police investigating after an e-bike collided ...</td>\n",
       "    </tr>\n",
       "    <tr>\n",
       "      <th>7612</th>\n",
       "      <td>10873</td>\n",
       "      <td></td>\n",
       "      <td></td>\n",
       "      <td>The Latest: More Homes Razed by Northern Calif...</td>\n",
       "      <td>1</td>\n",
       "      <td>The Latest: More Homes Razed by Northern Calif...</td>\n",
       "    </tr>\n",
       "  </tbody>\n",
       "</table>\n",
       "<p>7613 rows × 6 columns</p>\n",
       "</div>"
      ],
      "text/plain": [
       "         id keyword location  \\\n",
       "0         1                    \n",
       "1         4                    \n",
       "2         5                    \n",
       "3         6                    \n",
       "4         7                    \n",
       "...     ...     ...      ...   \n",
       "7608  10869                    \n",
       "7609  10870                    \n",
       "7610  10871                    \n",
       "7611  10872                    \n",
       "7612  10873                    \n",
       "\n",
       "                                                   text  target  \\\n",
       "0     Our Deeds are the Reason of this #earthquake M...       1   \n",
       "1                Forest fire near La Ronge Sask. Canada       1   \n",
       "2     All residents asked to 'shelter in place' are ...       1   \n",
       "3     13,000 people receive #wildfires evacuation or...       1   \n",
       "4     Just got sent this photo from Ruby #Alaska as ...       1   \n",
       "...                                                 ...     ...   \n",
       "7608  Two giant cranes holding a bridge collapse int...       1   \n",
       "7609  @aria_ahrary @TheTawniest The out of control w...       1   \n",
       "7610  M1.94 [01:04 UTC]?5km S of Volcano Hawaii. htt...       1   \n",
       "7611  Police investigating after an e-bike collided ...       1   \n",
       "7612  The Latest: More Homes Razed by Northern Calif...       1   \n",
       "\n",
       "                                               combined  \n",
       "0     Our Deeds are the Reason of this #earthquake M...  \n",
       "1                Forest fire near La Ronge Sask. Canada  \n",
       "2     All residents asked to 'shelter in place' are ...  \n",
       "3     13,000 people receive #wildfires evacuation or...  \n",
       "4     Just got sent this photo from Ruby #Alaska as ...  \n",
       "...                                                 ...  \n",
       "7608  Two giant cranes holding a bridge collapse int...  \n",
       "7609  @aria_ahrary @TheTawniest The out of control w...  \n",
       "7610  M1.94 [01:04 UTC]?5km S of Volcano Hawaii. htt...  \n",
       "7611  Police investigating after an e-bike collided ...  \n",
       "7612  The Latest: More Homes Razed by Northern Calif...  \n",
       "\n",
       "[7613 rows x 6 columns]"
      ]
     },
     "execution_count": 8,
     "metadata": {},
     "output_type": "execute_result"
    }
   ],
   "source": [
    "trainDat = combine_features(trainDat)\n",
    "trainDat"
   ]
  },
  {
   "cell_type": "code",
   "execution_count": 10,
   "id": "e843702a",
   "metadata": {},
   "outputs": [
    {
     "data": {
      "text/plain": [
       "7613"
      ]
     },
     "execution_count": 10,
     "metadata": {},
     "output_type": "execute_result"
    },
    {
     "data": {
      "text/plain": [
       "7613"
      ]
     },
     "execution_count": 10,
     "metadata": {},
     "output_type": "execute_result"
    }
   ],
   "source": [
    "# Converting the dataframe columns into list\n",
    "tweets = trainDat.combined.tolist()\n",
    "labels = trainDat.target.tolist()\n",
    "len(tweets)\n",
    "len(labels)"
   ]
  },
  {
   "cell_type": "markdown",
   "id": "569e150c",
   "metadata": {},
   "source": [
    "# Decision Reasoning\n",
    "- I decided to use 80 as max review length because I feel like tweets are usually shorter than this based on my experience with Twitter.\n",
    "- I also split the training/validation to approx 80/20 with about 100 words for the final exam.\n",
    "- I also think the max words of 10000 was sufficient (similar to the sync session with movie reviews)\n",
    "- For two of the models below, I also used the pre-trained glove.6B.100d.txt similar to the sync session movie reviews example\n",
    "- I also followed the same tokenization/padding as the sync session example. As the Tokenizer already removes punctuation and left padding as default seemed reasonable.\n",
    "- I will explain model differences and additional decision analysis later."
   ]
  },
  {
   "cell_type": "code",
   "execution_count": 11,
   "id": "7d864e23",
   "metadata": {},
   "outputs": [],
   "source": [
    "# Some hyperparams.\n",
    "maxLen = 80     # maximum review length\n",
    "trainDatNbr = 6000    # number of reviews that will be used for training\n",
    "valDatNbr = 1513      # reviews for validation\n",
    "testDatNbr = 100     # data for final model evaluation\n",
    "maxWords = 10000    # max number of words ot use"
   ]
  },
  {
   "cell_type": "code",
   "execution_count": 12,
   "id": "807cf268",
   "metadata": {},
   "outputs": [],
   "source": [
    "tokenizer = Tokenizer(num_words=maxWords)  # split into words, no more tha 10k\n",
    "# The tokenizer will by default remove punctuation\n",
    "\n",
    "tokenizer.fit_on_texts(tweets) # reviews is a list of review texts\n",
    "sequences = tokenizer.texts_to_sequences(tweets)\n",
    "\n",
    "paddedSeqs = pad_sequences(sequences,maxLen)  # A np array\n",
    "labels = np.asarray(labels)   # Another np array"
   ]
  },
  {
   "cell_type": "code",
   "execution_count": 13,
   "id": "87ebfd10",
   "metadata": {},
   "outputs": [
    {
     "data": {
      "text/plain": [
       "dict"
      ]
     },
     "execution_count": 13,
     "metadata": {},
     "output_type": "execute_result"
    }
   ],
   "source": [
    "# This will be neededin a subsequent step about the vectors\n",
    "wordIndx=tokenizer.word_index\n",
    "type(wordIndx)"
   ]
  },
  {
   "cell_type": "code",
   "execution_count": 14,
   "id": "f759a452",
   "metadata": {
    "scrolled": true
   },
   "outputs": [
    {
     "name": "stdout",
     "output_type": "stream",
     "text": [
      "number of padded sequences: 7613\n"
     ]
    }
   ],
   "source": [
    "print(f'number of padded sequences: {len(paddedSeqs)}')"
   ]
  },
  {
   "cell_type": "markdown",
   "id": "d89acea4",
   "metadata": {},
   "source": [
    "# Splitting Reviews Into Train, Validate, Test"
   ]
  },
  {
   "cell_type": "code",
   "execution_count": 15,
   "id": "15cfa6ae",
   "metadata": {},
   "outputs": [],
   "source": [
    "# Random sort of labels and reviews\n",
    "\n",
    "np.random.seed(55)\n",
    "\n",
    "Indx = np.arange(len(paddedSeqs))\n",
    "\n",
    "np.random.shuffle(Indx)\n",
    "\n",
    "labels=labels[Indx]\n",
    "\n",
    "paddedSeqs=paddedSeqs[Indx]"
   ]
  },
  {
   "cell_type": "code",
   "execution_count": 16,
   "id": "6d7aa687",
   "metadata": {},
   "outputs": [],
   "source": [
    "# Splitting data\n",
    "\n",
    "XTrain = paddedSeqs[:trainDatNbr]   # training data\n",
    "yTrain = labels[:trainDatNbr]       # training labels\n",
    "\n",
    "XVal = paddedSeqs[trainDatNbr:trainDatNbr+valDatNbr]\n",
    "yVal = labels[trainDatNbr:trainDatNbr+valDatNbr]\n",
    "\n",
    "XTest = paddedSeqs[trainDatNbr+valDatNbr:trainDatNbr+valDatNbr+\n",
    "                  testDatNbr]\n",
    "yTest = labels[trainDatNbr+valDatNbr:trainDatNbr+valDatNbr+\n",
    "                  testDatNbr]"
   ]
  },
  {
   "cell_type": "code",
   "execution_count": 17,
   "id": "98d7734a",
   "metadata": {},
   "outputs": [
    {
     "data": {
      "text/plain": [
       "(6000, 80)"
      ]
     },
     "execution_count": 17,
     "metadata": {},
     "output_type": "execute_result"
    },
    {
     "data": {
      "text/plain": [
       "(6000,)"
      ]
     },
     "execution_count": 17,
     "metadata": {},
     "output_type": "execute_result"
    },
    {
     "data": {
      "text/plain": [
       "(1513, 80)"
      ]
     },
     "execution_count": 17,
     "metadata": {},
     "output_type": "execute_result"
    },
    {
     "data": {
      "text/plain": [
       "(1513,)"
      ]
     },
     "execution_count": 17,
     "metadata": {},
     "output_type": "execute_result"
    },
    {
     "data": {
      "text/plain": [
       "(100, 80)"
      ]
     },
     "execution_count": 17,
     "metadata": {},
     "output_type": "execute_result"
    },
    {
     "data": {
      "text/plain": [
       "(100,)"
      ]
     },
     "execution_count": 17,
     "metadata": {},
     "output_type": "execute_result"
    }
   ],
   "source": [
    "# checks on shapes\n",
    "XTrain.shape\n",
    "yTrain.shape\n",
    "XVal.shape\n",
    "yVal.shape\n",
    "XTest.shape\n",
    "yTest.shape"
   ]
  },
  {
   "cell_type": "code",
   "execution_count": 18,
   "id": "27bce8bf",
   "metadata": {},
   "outputs": [],
   "source": [
    "# Using the same pre-trained100 dimensions as sync session movie reivews\n",
    "GloVeFil='glove.6B.100d.txt'  # vector file\n",
    "\n",
    "emIndx=dict()\n",
    "\n",
    "with open(GloVeFil) as inFile:\n",
    "    emFil=inFile.readlines()\n",
    "cnt = 0\n",
    "for line in emFil:      # reading line by line\n",
    "    vals = line.split()\n",
    "    word = vals[0]   # word is first value in each line\n",
    "    coefs = np.asarray(vals[1:],dtype='float32')# rest of line read in nparray\n",
    "    emIndx[word]=coefs\n",
    "\n"
   ]
  },
  {
   "cell_type": "code",
   "execution_count": 19,
   "id": "3b21c1ff",
   "metadata": {},
   "outputs": [
    {
     "name": "stdout",
     "output_type": "stream",
     "text": [
      "number of vectors 400000\n"
     ]
    }
   ],
   "source": [
    "print(f'number of vectors {len(emIndx)}')"
   ]
  },
  {
   "cell_type": "code",
   "execution_count": 21,
   "id": "7d0ea290",
   "metadata": {},
   "outputs": [],
   "source": [
    "maxWords=10000\n",
    "emDim=100 # GloVe dimension\n",
    "emMat=np.zeros((maxWords,emDim))   # start with all zeros\n",
    "\n",
    "for word, i in wordIndx.items():\n",
    "    if i < maxWords:\n",
    "        emVec = emIndx.get(word)# default is None when word is not in index\n",
    "        if emVec is not None:\n",
    "            emMat[i]=emVec"
   ]
  },
  {
   "cell_type": "code",
   "execution_count": 22,
   "id": "3028e44e",
   "metadata": {},
   "outputs": [
    {
     "data": {
      "text/plain": [
       "numpy.ndarray"
      ]
     },
     "execution_count": 22,
     "metadata": {},
     "output_type": "execute_result"
    },
    {
     "data": {
      "text/plain": [
       "(10000, 100)"
      ]
     },
     "execution_count": 22,
     "metadata": {},
     "output_type": "execute_result"
    }
   ],
   "source": [
    "# Let's take a look at the embedding matrix\n",
    "\n",
    "type(emMat)\n",
    "emMat.shape"
   ]
  },
  {
   "cell_type": "code",
   "execution_count": 28,
   "id": "f230a3ec",
   "metadata": {},
   "outputs": [
    {
     "data": {
      "text/plain": [
       "(10000, 100)"
      ]
     },
     "execution_count": 28,
     "metadata": {},
     "output_type": "execute_result"
    }
   ],
   "source": [
    "emMat.shape"
   ]
  },
  {
   "cell_type": "markdown",
   "id": "0817de39",
   "metadata": {},
   "source": [
    "## Baseline (Model 0)\n",
    "- This baseline model is simliar to the baseline model in the sync session 7.\n",
    "- The only diffderent is that this model 0 will not use the pre-trained word embeddings.\n",
    "- The neural network will also not be Bidirectional in this model. Other models will be bidirectional as I felt it's important for the model to account for the keywords/location from the beginning segments of the reviews.\n",
    "- The epics of 10 and batch size 32 will also remain constant\n",
    "- This baseline model yield an accuracy of 67% against the final exam data. "
   ]
  },
  {
   "cell_type": "code",
   "execution_count": 34,
   "id": "7b726b29",
   "metadata": {},
   "outputs": [],
   "source": [
    "# Assist with removing the TensorFlow warning\n",
    "import os\n",
    "os.environ['TF_CPP_MIN_LOG_LEVEL'] = '2'"
   ]
  },
  {
   "cell_type": "code",
   "execution_count": 35,
   "id": "0c656ff0",
   "metadata": {},
   "outputs": [],
   "source": [
    "model = Sequential()\n",
    "model.add(Embedding(maxWords,emDim,input_length=maxLen))\n",
    "model.add(Flatten())\n",
    "model.add(Dense(64,activation='relu'))\n",
    "model.add(Dense(1,activation='sigmoid'))"
   ]
  },
  {
   "cell_type": "code",
   "execution_count": 36,
   "id": "a1de2cf7",
   "metadata": {
    "scrolled": false
   },
   "outputs": [
    {
     "name": "stdout",
     "output_type": "stream",
     "text": [
      "Model: \"sequential_3\"\n",
      "_________________________________________________________________\n",
      "Layer (type)                 Output Shape              Param #   \n",
      "=================================================================\n",
      "embedding_3 (Embedding)      (None, 80, 100)           1000000   \n",
      "_________________________________________________________________\n",
      "flatten_3 (Flatten)          (None, 8000)              0         \n",
      "_________________________________________________________________\n",
      "dense_6 (Dense)              (None, 64)                512064    \n",
      "_________________________________________________________________\n",
      "dense_7 (Dense)              (None, 1)                 65        \n",
      "=================================================================\n",
      "Total params: 1,512,129\n",
      "Trainable params: 1,512,129\n",
      "Non-trainable params: 0\n",
      "_________________________________________________________________\n"
     ]
    }
   ],
   "source": [
    "model.summary()"
   ]
  },
  {
   "cell_type": "code",
   "execution_count": 37,
   "id": "7236af08",
   "metadata": {},
   "outputs": [],
   "source": [
    "#Basic Compile. Bingary_crossentropy because this is a binary classification\n",
    "model.compile(\n",
    "    optimizer='rmsprop',\n",
    "    loss='binary_crossentropy',\n",
    "    metrics=['acc'],\n",
    "    )"
   ]
  },
  {
   "cell_type": "code",
   "execution_count": 38,
   "id": "9940e06c",
   "metadata": {},
   "outputs": [],
   "source": [
    "# I also dicided to stick with the defaults of 10 epics, and batch size of 32.\n",
    "# I felt these were good basic hyperparameters \n",
    "##  and will remain constant in this project.\n",
    "history=model.fit(XTrain, yTrain,\n",
    "        epochs=10,\n",
    "        batch_size=32,\n",
    "        validation_data=(XVal,yVal),\n",
    "        verbose=0)\n",
    "model.save_weights('assign-4-selftrained-test-1.h5')"
   ]
  },
  {
   "cell_type": "code",
   "execution_count": 50,
   "id": "a59171ff",
   "metadata": {},
   "outputs": [
    {
     "name": "stdout",
     "output_type": "stream",
     "text": [
      " Accuracy:  0.67\n"
     ]
    }
   ],
   "source": [
    "## This code shows the accuracy of the baseline model\n",
    "accuracy_baseline_final_exam = accuracy_score(yTest,(\\\n",
    "                                model.predict(XTest) > 0.5).astype(\"int32\"))\n",
    "print (f' Accuracy: ', \\\n",
    "       accuracy_baseline_final_exam)"
   ]
  },
  {
   "cell_type": "markdown",
   "id": "9870a63c",
   "metadata": {},
   "source": [
    "## Model 1\n",
    "- This first model uses the pre-trained word embeddings. (notice the non-trainable milllion params).\n",
    "- All other variables/hyper parameters are the same from the baseline Model 0.\n",
    "- I wanted to see the different in accuracy using pre-trained versus self-trained weights.\n",
    "- This model yeild an accuracy of 76%. Better than the previous which is not too surprising considering the pre-trained is probably good/well-known for all-around NLP."
   ]
  },
  {
   "cell_type": "code",
   "execution_count": 54,
   "id": "3cd387da",
   "metadata": {},
   "outputs": [],
   "source": [
    "model1 = Sequential()\n",
    "model1.add(Embedding(maxWords,emDim,input_length=maxLen))\n",
    "model1.add(Flatten())\n",
    "model1.add(Dense(64,activation='relu'))\n",
    "model1.add(Dense(1,activation='sigmoid'))"
   ]
  },
  {
   "cell_type": "code",
   "execution_count": 56,
   "id": "9b369ed1",
   "metadata": {},
   "outputs": [],
   "source": [
    "# This part indicates that the embedding layer is already trained, \n",
    "##  and thus should not be trained.\n",
    "\n",
    "# here's where the embedding matrix is added\n",
    "model1.layers[0].set_weights([emMat])\n",
    "model1.layers[0].trainable=False   # Don't train this layer"
   ]
  },
  {
   "cell_type": "code",
   "execution_count": 87,
   "id": "315949be",
   "metadata": {
    "scrolled": false
   },
   "outputs": [
    {
     "name": "stdout",
     "output_type": "stream",
     "text": [
      "Model: \"sequential_5\"\n",
      "_________________________________________________________________\n",
      "Layer (type)                 Output Shape              Param #   \n",
      "=================================================================\n",
      "embedding_5 (Embedding)      (None, 80, 100)           1000000   \n",
      "_________________________________________________________________\n",
      "flatten_5 (Flatten)          (None, 8000)              0         \n",
      "_________________________________________________________________\n",
      "dense_10 (Dense)             (None, 64)                512064    \n",
      "_________________________________________________________________\n",
      "dense_11 (Dense)             (None, 1)                 65        \n",
      "=================================================================\n",
      "Total params: 1,512,129\n",
      "Trainable params: 512,129\n",
      "Non-trainable params: 1,000,000\n",
      "_________________________________________________________________\n"
     ]
    }
   ],
   "source": [
    "model1.summary()"
   ]
  },
  {
   "cell_type": "code",
   "execution_count": 57,
   "id": "2c90e27f",
   "metadata": {},
   "outputs": [],
   "source": [
    "model1.compile(\n",
    "    optimizer='rmsprop',\n",
    "    loss='binary_crossentropy',\n",
    "    metrics=['acc'],\n",
    "    )"
   ]
  },
  {
   "cell_type": "code",
   "execution_count": 58,
   "id": "d7ace371",
   "metadata": {},
   "outputs": [],
   "source": [
    "history=model1.fit(XTrain, yTrain,\n",
    "        epochs=10,\n",
    "        batch_size=32,\n",
    "        validation_data=(XVal,yVal),\n",
    "        verbose=0)\n",
    "model.save_weights('assign-4-selftrained-test-1.h5')"
   ]
  },
  {
   "cell_type": "code",
   "execution_count": 59,
   "id": "5163d7e8",
   "metadata": {},
   "outputs": [
    {
     "name": "stdout",
     "output_type": "stream",
     "text": [
      " Accuracy:  0.76\n"
     ]
    }
   ],
   "source": [
    "## This code shows the accuracy of model 1\n",
    "accuracy_model1_final_exam = accuracy_score(yTest,\\\n",
    "                            (model1.predict(XTest) > 0.5).astype(\"int32\"))\n",
    "print (f' Accuracy: ', \\\n",
    "       accuracy_model1_final_exam)"
   ]
  },
  {
   "cell_type": "markdown",
   "id": "1ca4adfa",
   "metadata": {},
   "source": [
    "## Model 2\n",
    "- The big difference in this model is the bidirectional LSTM used in the RNN. Since I concatenated keywords/location to the tweet text, the model needed a way to account for those important keywords in the begnning of the RNN.\n",
    "- This second model does not use the pre-trained word embeddings.\n",
    "- All other variables/hyper parameters are the same.\n",
    "- This model yeild an accuracy of 69%. Surprised me a little as I thought this would further improve the score from Models 0 and 1."
   ]
  },
  {
   "cell_type": "code",
   "execution_count": 64,
   "id": "fc73a934",
   "metadata": {},
   "outputs": [],
   "source": [
    "# The big difference here is the bidirectional LTSM.\n",
    "model2 = Sequential()\n",
    "model2.add(Embedding(maxWords,emDim,input_length=maxLen))\n",
    "model2.add(Bidirectional(LSTM(64)))\n",
    "model2.add(Flatten())\n",
    "model2.add(Dense(64,activation='relu'))\n",
    "model2.add(Dense(1,activation='sigmoid'))"
   ]
  },
  {
   "cell_type": "code",
   "execution_count": 65,
   "id": "f350c594",
   "metadata": {
    "scrolled": false
   },
   "outputs": [
    {
     "name": "stdout",
     "output_type": "stream",
     "text": [
      "Model: \"sequential_7\"\n",
      "_________________________________________________________________\n",
      "Layer (type)                 Output Shape              Param #   \n",
      "=================================================================\n",
      "embedding_7 (Embedding)      (None, 80, 100)           1000000   \n",
      "_________________________________________________________________\n",
      "bidirectional_3 (Bidirection (None, 128)               84480     \n",
      "_________________________________________________________________\n",
      "flatten_7 (Flatten)          (None, 128)               0         \n",
      "_________________________________________________________________\n",
      "dense_14 (Dense)             (None, 64)                8256      \n",
      "_________________________________________________________________\n",
      "dense_15 (Dense)             (None, 1)                 65        \n",
      "=================================================================\n",
      "Total params: 1,092,801\n",
      "Trainable params: 1,092,801\n",
      "Non-trainable params: 0\n",
      "_________________________________________________________________\n"
     ]
    }
   ],
   "source": [
    "model2.summary()"
   ]
  },
  {
   "cell_type": "code",
   "execution_count": 44,
   "id": "e4bd4810",
   "metadata": {},
   "outputs": [],
   "source": [
    "model2.compile(\n",
    "    optimizer='rmsprop',\n",
    "    loss='binary_crossentropy',\n",
    "    metrics=['acc'],\n",
    "    )"
   ]
  },
  {
   "cell_type": "code",
   "execution_count": 45,
   "id": "81e7eb29",
   "metadata": {},
   "outputs": [],
   "source": [
    "history=model2.fit(XTrain, yTrain,\n",
    "        epochs=10,\n",
    "        batch_size=32,\n",
    "        validation_data=(XVal,yVal),\n",
    "        verbose=0)\n",
    "model.save_weights('assign-4-selftrained-test-1.h5')"
   ]
  },
  {
   "cell_type": "code",
   "execution_count": 53,
   "id": "1350922e",
   "metadata": {
    "scrolled": true
   },
   "outputs": [
    {
     "name": "stdout",
     "output_type": "stream",
     "text": [
      " Accuracy:  0.69\n"
     ]
    }
   ],
   "source": [
    "## This code shows the accuracy of the model 2.\n",
    "accuracy_model2_final_exam = accuracy_score(\\\n",
    "                        yTest,(model2.predict(XTest) > 0.5).astype(\"int32\"))\n",
    "print (f' Accuracy: ', \\\n",
    "       accuracy_model2_final_exam)"
   ]
  },
  {
   "cell_type": "markdown",
   "id": "182eab3b",
   "metadata": {},
   "source": [
    "## Model 3\n",
    "- This last model here is an RNN model that uses pre-trained word embeddings as well as the Bidirectional LSTM layer. There will be 1 million non-trainable params. My huntch is that this model would yield the best accuracy.\n",
    "- All other variables/hyper parameters are the same.\n",
    "- This model yeild an accuracy of 80%. As expected, this model did perform better than the previous ones. However, this did take the longest to build."
   ]
  },
  {
   "cell_type": "code",
   "execution_count": 67,
   "id": "7c2363da",
   "metadata": {},
   "outputs": [],
   "source": [
    "model3 = Sequential()\n",
    "model3.add(Embedding(maxWords,emDim,input_length=maxLen))\n",
    "model3.add(Bidirectional(LSTM(64)))\n",
    "model3.add(Flatten())\n",
    "model3.add(Dense(64,activation='relu'))\n",
    "model3.add(Dense(1,activation='sigmoid'))"
   ]
  },
  {
   "cell_type": "code",
   "execution_count": 69,
   "id": "d9a434e8",
   "metadata": {},
   "outputs": [],
   "source": [
    "# This part indicates that the embedding layer is already trained, \n",
    "##  and thus should not be trained.\n",
    "model3.layers[0].set_weights([emMat])#where the embedding matrix is added\n",
    "model3.layers[0].trainable=False# Don't train this layer"
   ]
  },
  {
   "cell_type": "code",
   "execution_count": 88,
   "id": "84306096",
   "metadata": {},
   "outputs": [
    {
     "name": "stdout",
     "output_type": "stream",
     "text": [
      "Model: \"sequential_8\"\n",
      "_________________________________________________________________\n",
      "Layer (type)                 Output Shape              Param #   \n",
      "=================================================================\n",
      "embedding_8 (Embedding)      (None, 80, 100)           1000000   \n",
      "_________________________________________________________________\n",
      "bidirectional_4 (Bidirection (None, 128)               84480     \n",
      "_________________________________________________________________\n",
      "flatten_8 (Flatten)          (None, 128)               0         \n",
      "_________________________________________________________________\n",
      "dense_16 (Dense)             (None, 64)                8256      \n",
      "_________________________________________________________________\n",
      "dense_17 (Dense)             (None, 1)                 65        \n",
      "=================================================================\n",
      "Total params: 1,092,801\n",
      "Trainable params: 92,801\n",
      "Non-trainable params: 1,000,000\n",
      "_________________________________________________________________\n"
     ]
    }
   ],
   "source": [
    "model3.summary()"
   ]
  },
  {
   "cell_type": "code",
   "execution_count": 70,
   "id": "46b98833",
   "metadata": {},
   "outputs": [],
   "source": [
    "model3.compile(\n",
    "    optimizer='rmsprop',\n",
    "    loss='binary_crossentropy',\n",
    "    metrics=['acc'],\n",
    "    )"
   ]
  },
  {
   "cell_type": "code",
   "execution_count": 71,
   "id": "be1f8592",
   "metadata": {},
   "outputs": [],
   "source": [
    "history=model3.fit(XTrain, yTrain,\n",
    "        epochs=10,\n",
    "        batch_size=32,\n",
    "        validation_data=(XVal,yVal),\n",
    "        verbose=0)\n",
    "model.save_weights('assign-4-selftrained-test-1.h5')"
   ]
  },
  {
   "cell_type": "code",
   "execution_count": 72,
   "id": "8fe0202e",
   "metadata": {},
   "outputs": [
    {
     "name": "stdout",
     "output_type": "stream",
     "text": [
      " Accuracy:  0.8\n"
     ]
    }
   ],
   "source": [
    "## This code shows the accuracy of the final model 3 \n",
    "accuracy_model3_final_exam = \\\n",
    "accuracy_score(yTest,(model3.predict(XTest) > 0.5).astype(\"int32\"))\n",
    "print (f' Accuracy: ', \\\n",
    "       accuracy_model3_final_exam)"
   ]
  },
  {
   "cell_type": "markdown",
   "id": "1e6f2994",
   "metadata": {},
   "source": [
    "## Visuals for Model 3 (best)\n",
    "- Out of curiousity, I wanted to see how the model progresed.\n",
    "- I noticed both the training and validation accuracy continues to increase.\n",
    "- I would think that if I increased the epics, this would improve my model\n",
    "- However, due to time constrants and long training times, I figured 80% was good enough"
   ]
  },
  {
   "cell_type": "code",
   "execution_count": 73,
   "id": "f3fb88e0",
   "metadata": {
    "scrolled": false
   },
   "outputs": [
    {
     "data": {
      "image/png": "[encoded data removed]",
      "text/plain": [
       "<Figure size 432x288 with 1 Axes>"
      ]
     },
     "metadata": {
      "needs_background": "light"
     },
     "output_type": "display_data"
    },
    {
     "data": {
      "image/png": "[encoded data removed]",
      "text/plain": [
       "<Figure size 432x288 with 1 Axes>"
      ]
     },
     "metadata": {
      "needs_background": "light"
     },
     "output_type": "display_data"
    }
   ],
   "source": [
    "import matplotlib.pyplot as plt\n",
    "\n",
    "acc = history.history['acc']\n",
    "val_acc = history.history['val_acc']\n",
    "loss = history.history['loss']\n",
    "val_loss = history.history['val_loss']\n",
    "\n",
    "epochs = range(1, len(acc) + 1)\n",
    "\n",
    "plt.plot(epochs, acc, 'bo', label='Training acc')\n",
    "plt.plot(epochs, val_acc, 'b', label='Validation acc')\n",
    "plt.title('Training and validation accuracy')\n",
    "plt.legend()\n",
    "\n",
    "plt.figure()\n",
    "\n",
    "plt.plot(epochs, loss, 'bo', label='Training loss')\n",
    "plt.plot(epochs, val_loss, 'b', label='Validation loss')\n",
    "plt.title('Training and validation loss')\n",
    "plt.legend()\n",
    "\n",
    "plt.show();"
   ]
  },
  {
   "cell_type": "code",
   "execution_count": 74,
   "id": "c8e1f223",
   "metadata": {
    "scrolled": true
   },
   "outputs": [
    {
     "name": "stdout",
     "output_type": "stream",
     "text": [
      "        acc   val_acc      loss  val_loss\n",
      "0  0.762000  0.739590  0.505039  0.529143\n",
      "1  0.794500  0.799736  0.452810  0.448977\n",
      "2  0.809500  0.773959  0.427790  0.474592\n",
      "3  0.820333  0.805023  0.411473  0.447126\n",
      "4  0.830333  0.799075  0.393527  0.439522\n",
      "5  0.836000  0.809650  0.379422  0.441046\n",
      "6  0.848333  0.805684  0.355137  0.481399\n",
      "7  0.859667  0.812954  0.342377  0.450727\n",
      "8  0.869000  0.783873  0.316881  0.524362\n",
      "9  0.878667  0.806345  0.295653  0.471885\n"
     ]
    }
   ],
   "source": [
    "# Gradual increase in training and validation accuracy overtime.\n",
    "resDF=pd.DataFrame(history.history)\n",
    "print(resDF[['acc','val_acc','loss','val_loss']])"
   ]
  },
  {
   "cell_type": "markdown",
   "id": "2d9b303b",
   "metadata": {},
   "source": [
    "# RNN Results/Summary\n",
    "- Overall, the model improves as I continue to tune/tweak the model.\n",
    "- With additional time and resources, this model could potentially yield upwards of 90%.\n",
    "- Other parameters I think would've yield the best results were the number of epics and/or the layers.\n",
    "- Below is a summary of the four different models and the specific parameters I tested with in my experiment."
   ]
  },
  {
   "cell_type": "code",
   "execution_count": 91,
   "id": "b855cb94",
   "metadata": {},
   "outputs": [],
   "source": [
    "from tabulate import tabulate\n",
    "\n",
    "model_results = [\n",
    "    [\"Baseline\", \"No\", \"No\", \"<10 mins\", \"67%\"],\n",
    "    [\"Model 1\", \"Yes\", \"No\", \"<10 mins\", \"76%\"],\n",
    "    [\"Model 2\", \"No\", \"Yes\", \">10 mins\",\"69%\"],\n",
    "    [\"Model 3\", \"Yes\", \"Yes\", \">10 mins\", \"80%\"],\n",
    "]\n",
    " \n",
    "# create header\n",
    "model_head = [\"Model\", \"Pre-trained Words?\", \"Bidirectional LSTM?\",\\\n",
    "              \"Processing time?\", \"Final Test Accuracy\"]\n",
    " \n",
    "# display table\n",
    "#print(tabulate(model_results, headers=model_head, tablefmt=\"html\"))"
   ]
  },
  {
   "cell_type": "markdown",
   "id": "6c1eb007",
   "metadata": {},
   "source": [
    "<table align=left>\n",
    "<thead>\n",
    "<tr><th>Model   </th><th>Pre-trained Words?  </th><th>Bidirectional LSTM?  </th><th>Processing time?  </th><th>Final Test Accuracy  </th></tr>\n",
    "</thead>\n",
    "<tbody>\n",
    "<tr><td>Baseline</td><td>No                  </td><td>No                   </td><td>&lt;10 mins          </td><td>67%                  </td></tr>\n",
    "<tr><td>Model 1 </td><td>Yes                 </td><td>No                   </td><td>&lt;10 mins          </td><td>76%                  </td></tr>\n",
    "<tr><td>Model 2 </td><td>No                  </td><td>Yes                  </td><td>&gt;10 mins          </td><td>69%                  </td></tr>\n",
    "<tr><td>Model 3 </td><td>Yes                 </td><td>Yes                  </td><td>&gt;10 mins          </td><td>80%                  </td></tr>\n",
    "</tbody>\n",
    "</table>"
   ]
  },
  {
   "cell_type": "markdown",
   "id": "03989bb9",
   "metadata": {},
   "source": [
    "## Implement/Submission\n",
    "- Model 3 wins!"
   ]
  },
  {
   "cell_type": "code",
   "execution_count": 77,
   "id": "c2a1893f",
   "metadata": {},
   "outputs": [],
   "source": [
    "testDat = pd.read_csv('test.csv')"
   ]
  },
  {
   "cell_type": "code",
   "execution_count": 78,
   "id": "10e14b81",
   "metadata": {},
   "outputs": [],
   "source": [
    "# Feature Engineer. This step combines the keyword, location and tweet text.\n",
    "testDat = combine_features(testDat)"
   ]
  },
  {
   "cell_type": "code",
   "execution_count": 79,
   "id": "faa70a05",
   "metadata": {},
   "outputs": [],
   "source": [
    "# Converts this to list for tokenization processing\n",
    "final_tweets = testDat.combined.tolist()"
   ]
  },
  {
   "cell_type": "code",
   "execution_count": 80,
   "id": "7ee6e642",
   "metadata": {},
   "outputs": [],
   "source": [
    "#tokenizes\n",
    "final_tweets_seq = tokenizer.texts_to_sequences(final_tweets)"
   ]
  },
  {
   "cell_type": "code",
   "execution_count": 81,
   "id": "ee434fa7",
   "metadata": {},
   "outputs": [],
   "source": [
    "#add paddings to front of sequences/sentences\n",
    "final_tweets_paddedSeqs = pad_sequences(final_tweets_seq,maxLen)"
   ]
  },
  {
   "cell_type": "code",
   "execution_count": 82,
   "id": "f475f7fc",
   "metadata": {},
   "outputs": [],
   "source": [
    "#Prediction\n",
    "y_pred = model3.predict(final_tweets_paddedSeqs)"
   ]
  },
  {
   "cell_type": "code",
   "execution_count": 83,
   "id": "54a7c5e8",
   "metadata": {
    "scrolled": true
   },
   "outputs": [
    {
     "data": {
      "text/plain": [
       "array([[0.68836194],\n",
       "       [0.6748655 ],\n",
       "       [0.9062563 ],\n",
       "       ...,\n",
       "       [0.96952057],\n",
       "       [0.74593264],\n",
       "       [0.8359334 ]], dtype=float32)"
      ]
     },
     "execution_count": 83,
     "metadata": {},
     "output_type": "execute_result"
    }
   ],
   "source": [
    "y_pred"
   ]
  },
  {
   "cell_type": "code",
   "execution_count": 85,
   "id": "ba4709e6",
   "metadata": {},
   "outputs": [],
   "source": [
    "submission = pd.read_csv(\"sample_submission.csv\")\n",
    "submission[\"target\"] = y_pred\n",
    "#If the ratio is > 0.5, then it is likely a disaster!\n",
    "submission[\"target\"] = submission[\"target\"]\\\n",
    ".apply(lambda x : 0 if x<=.5 else 1)"
   ]
  },
  {
   "cell_type": "code",
   "execution_count": 86,
   "id": "5490ccdf",
   "metadata": {},
   "outputs": [],
   "source": [
    "submission.to_csv(\"disaster_submission.csv\", index=False)"
   ]
  }
 ],
 "metadata": {
  "hide_input": false,
  "kernelspec": {
   "display_name": "Python 3",
   "language": "python",
   "name": "python3"
  },
  "language_info": {
   "codemirror_mode": {
    "name": "ipython",
    "version": 3
   },
   "file_extension": ".py",
   "mimetype": "text/x-python",
   "name": "python",
   "nbconvert_exporter": "python",
   "pygments_lexer": "ipython3",
   "version": "3.8.8"
  },
  "latex_envs": {
   "LaTeX_envs_menu_present": true,
   "autoclose": false,
   "autocomplete": true,
   "bibliofile": "biblio.bib",
   "cite_by": "apalike",
   "current_citInitial": 1,
   "eqLabelWithNumbers": true,
   "eqNumInitial": 1,
   "hotkeys": {
    "equation": "Ctrl-E",
    "itemize": "Ctrl-I"
   },
   "labels_anchors": false,
   "latex_user_defs": false,
   "report_style_numbering": false,
   "user_envs_cfg": false
  },
  "toc": {
   "base_numbering": 1,
   "nav_menu": {},
   "number_sections": false,
   "sideBar": true,
   "skip_h1_title": false,
   "title_cell": "Table of Contents",
   "title_sidebar": "Contents",
   "toc_cell": false,
   "toc_position": {},
   "toc_section_display": true,
   "toc_window_display": false
  }
 },
 "nbformat": 4,
 "nbformat_minor": 5
}
